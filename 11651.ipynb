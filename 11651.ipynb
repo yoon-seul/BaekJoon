{
 "cells": [
  {
   "cell_type": "code",
   "execution_count": 4,
   "id": "53d09f3e-a7c3-4158-aa15-9c7f15fcd882",
   "metadata": {},
   "outputs": [
    {
     "name": "stdin",
     "output_type": "stream",
     "text": [
      " 5\n",
      " 0 4\n",
      " 1 2\n",
      " 1 -1\n",
      " 2 2\n",
      " 3 3\n"
     ]
    },
    {
     "name": "stdout",
     "output_type": "stream",
     "text": [
      "0 4\n",
      "1 2\n",
      "1 -1\n",
      "2 2\n",
      "3 3\n"
     ]
    }
   ],
   "source": [
    "#BaekJoon 11651 by yoonseul at 210803\n",
    "\n",
    "case = int(input())\n",
    "x=[]\n",
    "y=[]\n",
    "\n",
    "for i in range(0,case):\n",
    "    num=input()\n",
    "    num=num.split()\n",
    "    x.append(int(num[0]))\n",
    "    y.append(int(num[1]))\n",
    "\n",
    "for i in range(0,case):\n",
    "    print(x[i],y[i])"
   ]
  },
  {
   "cell_type": "code",
   "execution_count": 5,
   "id": "3156d31d-12ef-426b-ac0a-083a52242f7f",
   "metadata": {},
   "outputs": [
    {
     "name": "stdin",
     "output_type": "stream",
     "text": [
      " 5\n",
      " 0 4\n",
      " 1 2\n",
      " 1 -1\n",
      " 2 2\n",
      " 3 3\n"
     ]
    },
    {
     "name": "stdout",
     "output_type": "stream",
     "text": [
      "['0', '4']\n",
      "['1', '2']\n",
      "['1', '-1']\n",
      "['2', '2']\n",
      "['3', '3']\n"
     ]
    }
   ],
   "source": [
    "#BaekJoon 11651 by yoonseul at 210803\n",
    "\n",
    "case = int(input())\n",
    "dot=[]\n",
    "\n",
    "for i in range(0,case):\n",
    "    num=input()\n",
    "    num=num.split()\n",
    "    dot.append(num)\n",
    "\n",
    "for i in range(0,case):\n",
    "    print(dot[i])"
   ]
  },
  {
   "cell_type": "code",
   "execution_count": 19,
   "id": "8442c2bf-2a19-4d87-bb82-28a3c09f071f",
   "metadata": {},
   "outputs": [
    {
     "name": "stdin",
     "output_type": "stream",
     "text": [
      " 5\n",
      " 0 4\n",
      " 1 2\n",
      " 1 -1\n",
      " 2 2\n",
      " 3 3\n"
     ]
    },
    {
     "name": "stdout",
     "output_type": "stream",
     "text": [
      "0 4\n",
      "1 2\n",
      "1 -1\n",
      "2 2\n",
      "3 3\n"
     ]
    }
   ],
   "source": [
    "#BaekJoon 11651 by yoonseul at 210803\n",
    "case = int(input())\n",
    "dot=[]\n",
    "\n",
    "for i in range(0,case):\n",
    "    num=input()\n",
    "    num=num.split()\n",
    "    dot.append(num)\n",
    "\n",
    "for i in range(0,case):\n",
    "    dot[i][0]=int(dot[i][0])\n",
    "    dot[i][1]=int(dot[i][1])\n",
    "    \n",
    "for i in range(0,case):\n",
    "    for j in range(0,case):\n",
    "        if dot[i][1]<dot[j][1]:\n",
    "            temp=dot[i]\n",
    "            dot[i]=dot[j]\n",
    "            dot[j]=temp\n",
    "        if dot[i][1]==dot[j][1]:\n",
    "            if dot[i][0]<dot[j][0]:\n",
    "                temp=dot[i]\n",
    "                dot[i]=dot[j]\n",
    "                dot[j]=temp\n",
    "\n",
    "for i in range(0,case):\n",
    "    print(dot[i][0],dot[i][1])"
   ]
  },
  {
   "cell_type": "code",
   "execution_count": null,
   "id": "41311ea5-3a39-44aa-b998-4376986580e9",
   "metadata": {},
   "outputs": [],
   "source": []
  },
  {
   "cell_type": "code",
   "execution_count": 24,
   "id": "6d496eb5-a752-4be1-93dd-d19085c83681",
   "metadata": {},
   "outputs": [
    {
     "name": "stdin",
     "output_type": "stream",
     "text": [
      " 5\n",
      " 0 4\n",
      " 2 2\n",
      " 1 -1\n",
      " 1 2\n",
      " 3 3\n"
     ]
    },
    {
     "name": "stdout",
     "output_type": "stream",
     "text": [
      "1 -1\n",
      "1 2\n",
      "2 2\n",
      "3 3\n",
      "0 4\n"
     ]
    }
   ],
   "source": [
    "#BaekJoon 11651 by yoonseul at 210803\n",
    "case = int(input())\n",
    "dot=[]\n",
    "\n",
    "for i in range(0,case):\n",
    "    num=input()\n",
    "    num=num.split()\n",
    "    dot.append(num)\n",
    "\n",
    "for i in range(0,case):\n",
    "    temp=int(dot[i][0])\n",
    "    dot[i][0]=int(dot[i][1])\n",
    "    dot[i][1]=temp\n",
    "\n",
    "dot.sort()\n",
    "\n",
    "for i in range(0,case-1):\n",
    "    if (dot[i][0]==dot[i+1][0]):\n",
    "        if (dot[i][1]>dot[i][1]):\n",
    "            temp=dot[i]\n",
    "            dot[i]=dot[j]\n",
    "            dot[j]=temp\n",
    "\n",
    "for i in range(0,case):\n",
    "    print(dot[i][1],dot[i][0])"
   ]
  },
  {
   "cell_type": "code",
   "execution_count": null,
   "id": "7853300d-d259-41b8-8e46-d25a900798c7",
   "metadata": {},
   "outputs": [],
   "source": []
  }
 ],
 "metadata": {
  "kernelspec": {
   "display_name": "Python 3",
   "language": "python",
   "name": "python3"
  },
  "language_info": {
   "codemirror_mode": {
    "name": "ipython",
    "version": 3
   },
   "file_extension": ".py",
   "mimetype": "text/x-python",
   "name": "python",
   "nbconvert_exporter": "python",
   "pygments_lexer": "ipython3",
   "version": "3.8.8"
  }
 },
 "nbformat": 4,
 "nbformat_minor": 5
}
