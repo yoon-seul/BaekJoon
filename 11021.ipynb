{
 "cells": [
  {
   "cell_type": "code",
   "execution_count": 43,
   "id": "4c0b65d0",
   "metadata": {},
   "outputs": [],
   "source": [
    "#Baekjoon 11021 by yoonseul at 210820"
   ]
  },
  {
   "cell_type": "code",
   "execution_count": 44,
   "id": "82d8a988",
   "metadata": {},
   "outputs": [
    {
     "name": "stdout",
     "output_type": "stream",
     "text": [
      "5\n"
     ]
    }
   ],
   "source": [
    "num=int(input())\n",
    "case=[]"
   ]
  },
  {
   "cell_type": "code",
   "execution_count": 45,
   "id": "53ba7536",
   "metadata": {},
   "outputs": [
    {
     "name": "stdout",
     "output_type": "stream",
     "text": [
      "1 1\n",
      "2 3\n",
      "3 4\n",
      "9 8\n",
      "5 2\n"
     ]
    }
   ],
   "source": [
    "for i in range(0,num):\n",
    "    ipt=input()\n",
    "    ipt.split()\n",
    "    sum=int(ipt[0])+int(ipt[2])\n",
    "    case.append(sum)"
   ]
  },
  {
   "cell_type": "code",
   "execution_count": 46,
   "id": "c857c5fa",
   "metadata": {},
   "outputs": [
    {
     "name": "stdout",
     "output_type": "stream",
     "text": [
      "Case #1 : 2\n",
      "Case #2 : 5\n",
      "Case #3 : 7\n",
      "Case #4 : 17\n",
      "Case #5 : 7\n"
     ]
    }
   ],
   "source": [
    "for i in range (0,num):\n",
    "    print(\"Case #%d : %d\" %(i+1,case[i]))"
   ]
  },
  {
   "cell_type": "code",
   "execution_count": null,
   "id": "4b5d61ef",
   "metadata": {},
   "outputs": [],
   "source": []
  }
 ],
 "metadata": {
  "kernelspec": {
   "display_name": "Python 3",
   "language": "python",
   "name": "python3"
  },
  "language_info": {
   "codemirror_mode": {
    "name": "ipython",
    "version": 3
   },
   "file_extension": ".py",
   "mimetype": "text/x-python",
   "name": "python",
   "nbconvert_exporter": "python",
   "pygments_lexer": "ipython3",
   "version": "3.8.8"
  }
 },
 "nbformat": 4,
 "nbformat_minor": 5
}
