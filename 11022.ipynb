{
 "cells": [
  {
   "cell_type": "code",
   "execution_count": 16,
   "id": "a2bee595-4e5e-4b7b-b4eb-966ec52699c5",
   "metadata": {},
   "outputs": [
    {
     "ename": "SyntaxError",
     "evalue": "EOL while scanning string literal (<ipython-input-16-e3818cce2e28>, line 13)",
     "output_type": "error",
     "traceback": [
      "\u001b[1;36m  File \u001b[1;32m\"<ipython-input-16-e3818cce2e28>\"\u001b[1;36m, line \u001b[1;32m13\u001b[0m\n\u001b[1;33m    print(\"Case #%d: %d + %d = %d\",'%(i+1,numA[i],numB[i],result[i]))\u001b[0m\n\u001b[1;37m                                                                     ^\u001b[0m\n\u001b[1;31mSyntaxError\u001b[0m\u001b[1;31m:\u001b[0m EOL while scanning string literal\n"
     ]
    }
   ],
   "source": [
    "case=int(input())\n",
    "numA=[]\n",
    "numB=[]\n",
    "result=[]\n",
    "for i in range(0,5):\n",
    "    num=input()\n",
    "    num=num.split()\n",
    "    numA.append(num[0])\n",
    "    numB.append(num[1])\n",
    "    result.append(numA[i]+numB[i])\n",
    "\n",
    "for i in range(0,5):\n",
    "    print(\"Case #%d: %d + %d = %d\",'%(i+1,numA[i],numB[i],result[i]))"
   ]
  },
  {
   "cell_type": "code",
   "execution_count": null,
   "id": "c43e93c1-5f84-4dc6-86ff-894a99a5ad5c",
   "metadata": {},
   "outputs": [
    {
     "name": "stdin",
     "output_type": "stream",
     "text": [
      " 5\n",
      " 1 1\n",
      " 2 3\n",
      " 3 4\n"
     ]
    }
   ],
   "source": [
    "#BaekJoon 11022 by yoonseul at 210803\n",
    "\n",
    "case=int(input())\n",
    "numA=[]\n",
    "numB=[]\n",
    "result=[]\n",
    "for i in range(0,case):\n",
    "    num=input()\n",
    "    num=num.split()\n",
    "    numA.append(int(num[0]))\n",
    "    numB.append(int(num[1]))\n",
    "    result.append(numA[i]+numB[i])\n",
    "\n",
    "for i in range(0,case):\n",
    "    print(\"Case #%d: %d + %d = %d\" %(i+1,numA[i],numB[i],result[i]))"
   ]
  },
  {
   "cell_type": "code",
   "execution_count": null,
   "id": "a9370412-34e7-418e-b29e-0b3e220e4af1",
   "metadata": {},
   "outputs": [],
   "source": []
  },
  {
   "cell_type": "code",
   "execution_count": null,
   "id": "5e986122-225e-4a9b-99fb-cef671f997af",
   "metadata": {},
   "outputs": [],
   "source": []
  }
 ],
 "metadata": {
  "kernelspec": {
   "display_name": "Python 3",
   "language": "python",
   "name": "python3"
  },
  "language_info": {
   "codemirror_mode": {
    "name": "ipython",
    "version": 3
   },
   "file_extension": ".py",
   "mimetype": "text/x-python",
   "name": "python",
   "nbconvert_exporter": "python",
   "pygments_lexer": "ipython3",
   "version": "3.8.8"
  }
 },
 "nbformat": 4,
 "nbformat_minor": 5
}
